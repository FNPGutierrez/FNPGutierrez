{
  "nbformat": 4,
  "nbformat_minor": 0,
  "metadata": {
    "colab": {
      "provenance": [],
      "authorship_tag": "ABX9TyPHQmSxBsfC3JyhONazG6+4",
      "include_colab_link": true
    },
    "kernelspec": {
      "name": "python3",
      "display_name": "Python 3"
    },
    "language_info": {
      "name": "python"
    }
  },
  "cells": [
    {
      "cell_type": "markdown",
      "metadata": {
        "id": "view-in-github",
        "colab_type": "text"
      },
      "source": [
        "<a href=\"https://colab.research.google.com/github/FNPGutierrez/FNPGutierrez/blob/main/Exercicio_prof_salario.ipynb\" target=\"_parent\"><img src=\"https://colab.research.google.com/assets/colab-badge.svg\" alt=\"Open In Colab\"/></a>"
      ]
    },
    {
      "cell_type": "markdown",
      "source": [
        "\n",
        "\n",
        "*   **teste**\n",
        "*   Item de lista\n",
        "\n"
      ],
      "metadata": {
        "id": "K7YL74AjflNY"
      }
    },
    {
      "cell_type": "markdown",
      "source": [
        "print(\"oi, Fausto\")"
      ],
      "metadata": {
        "id": "uc6ywz9vpzFg"
      }
    },
    {
      "cell_type": "code",
      "source": [],
      "metadata": {
        "id": "4f2MMOAD8VR9"
      },
      "execution_count": null,
      "outputs": []
    },
    {
      "cell_type": "code",
      "source": [
        " #soma\n",
        "\n",
        "n1 =int(input('Forneça um valor:'))\n",
        "n2 = int(input('Forneça outro valor:'))\n",
        "\n",
        " soma = (n1+n2)\n",
        " print('O Resultado da soma é:',soma)\n",
        " sub = (n1-n2)\n",
        " print('O Resultado da subtração é:',sub)\n",
        " mult = (n1*n2)\n",
        " print('O Resultado da multiplicação é:', mult)\n",
        "\n"
      ],
      "metadata": {
        "id": "KhJJvsMRf2U9",
        "colab": {
          "base_uri": "https://localhost:8080/"
        },
        "outputId": "01760150-38f5-49b6-f2f9-8683e144efbf"
      },
      "execution_count": null,
      "outputs": [
        {
          "output_type": "stream",
          "name": "stdout",
          "text": [
            "Forneça um valor:5\n",
            "Forneça outro valor:7\n",
            "O Resultado da soma é: 12\n",
            "O Resultado da subtração é: -2\n",
            "O Resultado da multiplicação é: 35\n"
          ]
        }
      ]
    },
    {
      "cell_type": "code",
      "source": [
        "from datetime import datetime\n",
        "import requests\n",
        "from bs4 import BeautifulSoup\n",
        "\n",
        "\n",
        "nome = str(input('Informe seu Nome: '))\n",
        "\n",
        "while True:\n",
        "  try:\n",
        "    ano_nasci = int(input('Informe o ano que vc nasceu:'))\n",
        "    break\n",
        "  except ValueError:\n",
        "    print('⚠️ Entrada inválida! Digite o ano com 4 dígitos, apenas números.')\n",
        "\n",
        "\n",
        "ano_atual = datetime.now().year\n",
        "\n",
        "idade = ano_atual -  ano_nasci\n",
        "\n",
        "print(f'\\n{nome}, sua idade é: {idade} anos.')\n",
        "\n",
        "if idade < 18:\n",
        "  print('Você é menor de idade')\n",
        "  idade = 18-idade\n",
        "  print(f'Faltam {idade} anos para se tornar maior de idade.')\n",
        "else:\n",
        "  print('Você é maior de idade')\n",
        "\n",
        "resposta = input(\"Deseja trabalhar como Analista de Dados?(Sim/Não)\")\n",
        "\n",
        "if resposta.lower() == 'sim':\n",
        "  profissao = 'Analista de Dados'\n",
        "  url = f'https://www.salario.com.br/profissao/{profissao.replace(\" \", \"-\")}/'\n",
        "\n",
        "  headers = {\n",
        "      'User-Agent': 'Mozilla/5.0 (Windows NT 10.0; Win64; x64) AppleWebKit/537.36 (KHTML, like Gecko) Chrome/114.0.0.0 Safari/537.36'\n",
        "  }\n",
        "\n",
        "  response = requests.get(url, headers=headers)\n",
        "  soup = BeautifulSoup(response.text, 'html.parser')\n",
        "\n",
        "  salario = soup.find('div', class_='media-salarial')\n",
        "  if salario:\n",
        "      print(f'Salário médio de {profissao}: {salario.text.strip()}')\n",
        "  else:\n",
        "      print('Não foi possível encontrar o salário dessa profissão.')\n",
        "\n",
        "else:\n",
        "  print(\"Boa sorte com a profissão que escolher!\")\n"
      ],
      "metadata": {
        "colab": {
          "base_uri": "https://localhost:8080/"
        },
        "id": "emdrAuXDiefK",
        "outputId": "13653feb-6900-4420-f709-ccc3b6a4e794"
      },
      "execution_count": null,
      "outputs": [
        {
          "output_type": "stream",
          "name": "stdout",
          "text": [
            "Informe seu Nome: Fausto\n",
            "Informe o ano que vc nasceu:2010\n",
            "\n",
            "Fausto, sua idade é: 15 anos.\n",
            "Você é menor de idade\n",
            "Faltam 3 anos para se tornar maior de idade.\n",
            "Deseja trabalhar como Analista de Dados?(Sim/Não)sim\n",
            "Não foi possível encontrar o salário dessa profissão.\n"
          ]
        }
      ]
    },
    {
      "cell_type": "code",
      "source": [],
      "metadata": {
        "id": "3fQmg0tIicPd",
        "colab": {
          "base_uri": "https://localhost:8080/"
        },
        "outputId": "609bc78e-7a23-47f6-a371-0faabdef65ed"
      },
      "execution_count": null,
      "outputs": [
        {
          "output_type": "stream",
          "name": "stdout",
          "text": [
            "Não foi possível encontrar o salário dessa profissão.\n"
          ]
        }
      ]
    },
    {
      "cell_type": "code",
      "source": [],
      "metadata": {
        "id": "dCGaHk8UiWqr",
        "colab": {
          "base_uri": "https://localhost:8080/"
        },
        "outputId": "8248f162-65ad-4a50-ec37-2a5dccee2630"
      },
      "execution_count": null,
      "outputs": [
        {
          "output_type": "stream",
          "name": "stdout",
          "text": [
            "BeautifulSoup está instalado.\n"
          ]
        }
      ]
    }
  ]
}